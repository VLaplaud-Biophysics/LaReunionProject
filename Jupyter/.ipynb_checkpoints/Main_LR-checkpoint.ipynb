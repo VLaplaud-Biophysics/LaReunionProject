{
 "cells": [
  {
   "cell_type": "markdown",
   "metadata": {},
   "source": [
    "# This is the title of this notebook\n"
   ]
  },
  {
   "cell_type": "markdown",
   "metadata": {},
   "source": [
    "## Documentation and Imports\n",
    "\n",
    "\n",
    "Created on 21/08/2023\n",
    "\n",
    "Author: Valentin Laplaud\n",
    "\n",
    "General descritpion of the code here\n"
   ]
  },
  {
   "cell_type": "code",
   "execution_count": 1,
   "metadata": {},
   "outputs": [],
   "source": [
    "## Clean up before script start \n",
    "\n",
    "for element in dir():\n",
    "\n",
    "    if element[0:1] != \"_\":\n",
    "\n",
    "        del globals()[element]\n",
    "import gc\n",
    "gc.collect()\n",
    "\n",
    "import pandas as pd\n",
    "import numpy as np\n",
    "import datetime\n",
    "\n",
    " \n",
    "# importing required libraries\n",
    "import matplotlib as mpl\n",
    "import matplotlib.pyplot as plt\n",
    "\n",
    "\n",
    "COLOR = 'black'\n",
    "COLOR2 = 'white'\n",
    "\n",
    "mpl.rcParams['text.color'] = COLOR\n",
    "mpl.rcParams['axes.labelcolor'] = COLOR\n",
    "mpl.rcParams['xtick.color'] = COLOR\n",
    "mpl.rcParams['ytick.color'] = COLOR\n",
    "mpl.rcParams['axes.edgecolor'] = COLOR\n",
    "mpl.rcParams['axes.labelsize'] =  'large'\n",
    "\n",
    "mpl.rcParams[\"figure.facecolor\"] = COLOR2\n",
    "mpl.rcParams[\"axes.facecolor\"] = COLOR2\n",
    "mpl.rcParams[\"savefig.facecolor\"] = COLOR2\n",
    "mpl.rcParams['axes.facecolor'] = COLOR2\n",
    "\n",
    "\n",
    "import sys\n",
    "\n",
    "sys.path.append(r'd:\\Users\\laplaud\\Desktop\\PostDoc\\Code\\LaReunionProject\\Python')\n",
    "import VallapFunc_LR as vf\n",
    "import StatsFunctions_LR as sf\n",
    "\n",
    "from Main_LR import MonthAvg\n",
    "\n",
    "\n",
    "DataPath = r'd:/Users/laplaud/Desktop/PostDoc/Data/LaReunionProject'"
   ]
  },
  {
   "cell_type": "markdown",
   "metadata": {},
   "source": [
    "##  Data management"
   ]
  },
  {
   "cell_type": "markdown",
   "metadata": {},
   "source": [
    "### Retrieving & storing plant data"
   ]
  },
  {
   "cell_type": "code",
   "execution_count": 2,
   "metadata": {
    "scrolled": false
   },
   "outputs": [],
   "source": [
    "# # Loading global data on stations (2022 collect)\n",
    "# StationData = pd.read_excel(DataPath + '/DataMathieu/Data_globosa_SD3_VL.xlsx',\n",
    "#                   sheet_name='Données stations normées V2',index_col = 0,\n",
    "#                   usecols = ['Station','Date', 'Latitude','Longitude','Altitude (m)','Orientation','Verticalité (°C)'])\n",
    "\n",
    "# StationData.to_csv(DataPath + '/DataCSV/StationData.csv', index_label = 'Station')"
   ]
  },
  {
   "cell_type": "code",
   "execution_count": 3,
   "metadata": {},
   "outputs": [],
   "source": [
    "# # Loading colonies quantifications based on image analysis\n",
    "# CupData = pd.read_excel(DataPath + '/DataMathieu/Data_globosa_SD3_VL.xlsx',\n",
    "#                   sheet_name='Mesure par colonie',index_col = 0,\n",
    "#                   usecols = ['Nom échantillon','Densité corbeilles (unit/mm²)','Total corbeilles',\n",
    "#             'Largeur thalle (mm)','Aire corbeille (mm²)', 'Y centroïde-Y centre','Grand diamètre ellipse coupe (mm)',\n",
    "#             'Pourcentage de lumière sous la canopée (%)','Distance à la plus proche zone apicale (mm)'])\n",
    "\n",
    "# CupData.to_csv(DataPath + '/DataCSV/CupData.csv', index_label = 'Nom échantillon')"
   ]
  },
  {
   "cell_type": "code",
   "execution_count": 4,
   "metadata": {
    "scrolled": false
   },
   "outputs": [],
   "source": [
    "# StationData = pd.read_csv(DataPath + '/DataCSV/StationData.csv',index_col = 'Station')\n",
    "# CupData = pd.read_csv(DataPath + '/DataCSV/CupData.csv',index_col ='Nom échantillon' )\n",
    "\n",
    "# FullPlantData2022 = pd.merge(CupData,StationData, left_index=True, right_index=True)\n",
    "\n",
    "\n",
    "# FullPlantData2022['Latitude (m)'] = FullPlantData2022['Latitude'].apply(lambda x : (x+21.1)*111139)\n",
    "# FullPlantData2022['Longitude (m)'] = FullPlantData2022['Longitude'].apply(lambda x : (x-55.48)*111139)\n",
    "\n",
    "# FullPlantData2022.to_csv(DataPath + '/DataCSV/FullPlantData2022.csv', index_label = 'Station')\n"
   ]
  },
  {
   "cell_type": "markdown",
   "metadata": {},
   "source": [
    "### Retrieving weather data"
   ]
  },
  {
   "cell_type": "raw",
   "metadata": {},
   "source": [
    "List of abreviation : \n",
    "\n",
    "Rain quantifications\n",
    "[RR] = Cumul mensuel des hauteurs de précipitation\n",
    "[RRAB] = Maxi mensuel des hauteurs de précipitation quotidienne\n",
    "\n",
    "Temperatures\n",
    "[TM] = Moyenne mensuelle des temperatures moyennes quotidiennes\n",
    "[TAMPLIM] = Moyenne mensuelle des amplitudes thermiques\n",
    "\n",
    "Humidity\n",
    "[UMM] = Moyenne mensuelle de l'humidité relative moyenne\n",
    "\n",
    "Sunshine \n",
    "[GLOT] = Cumul mensuel du rayonement global\n",
    "    "
   ]
  },
  {
   "cell_type": "code",
   "execution_count": 5,
   "metadata": {
    "scrolled": false
   },
   "outputs": [],
   "source": [
    "# # Loading 01-2022 to 08-2022 meteological data\n",
    "\n",
    "# RainData = pd.read_excel(DataPath + '/DataMeteo/Rain2022.xls',\n",
    "#                   usecols = ['STATION','LATITUDE','LONGITUDE','ALTITUDE','DATE','RR','RRAB'])\n",
    "\n",
    "# RainData['MONTH'] = RainData['DATE'].apply(lambda x : x.month)\n",
    "\n",
    "# RainData.to_csv(DataPath + '/DataCSV/RainData2022.csv')\n",
    "\n",
    "\n",
    "# HumidityData = pd.read_excel(DataPath + '/DataMeteo/Humidity2022.xls',\n",
    "#                   usecols = ['STATION','LATITUDE','LONGITUDE','ALTITUDE','DATE','UMM'])\n",
    "\n",
    "# HumidityData['MONTH'] = HumidityData['DATE'].apply(lambda x : x.month)\n",
    "\n",
    "# HumidityData.to_csv(DataPath + '/DataCSV/HumidityData2022.csv')\n",
    "\n",
    "\n",
    "# TemperatureData = pd.read_excel(DataPath + '/DataMeteo/Temperatures2022.xls',\n",
    "#                   usecols = ['STATION','LATITUDE','LONGITUDE','ALTITUDE','DATE','TM','TAMPLIM'])\n",
    "\n",
    "# TemperatureData['MONTH'] = TemperatureData['DATE'].apply(lambda x : x.month)\n",
    "\n",
    "# TemperatureData.to_csv(DataPath + '/DataCSV/TemperatureData2022.csv')\n",
    "\n",
    "\n",
    "# SunshineData = pd.read_excel(DataPath + '/DataMeteo/SunshineLevels2022.xls',\n",
    "#                   usecols = ['STATION','LATITUDE','LONGITUDE','ALTITUDE','DATE','GLOT'])\n",
    "\n",
    "# SunshineData['MONTH'] = SunshineData['DATE'].apply(lambda x : x.month)\n",
    "\n",
    "# SunshineData.to_csv(DataPath + '/DataCSV/SunshineData2022.csv')\n",
    "\n"
   ]
  },
  {
   "cell_type": "markdown",
   "metadata": {},
   "source": [
    "### Formating weather data"
   ]
  },
  {
   "cell_type": "code",
   "execution_count": 6,
   "metadata": {},
   "outputs": [],
   "source": [
    "\n",
    "# SunshineData2022 = pd.read_csv(DataPath + '/DataCSV/SunshineData2022.csv',index_col = 0)\n",
    "\n",
    "# TemperatureData2022 = pd.read_csv(DataPath + '/DataCSV/TemperatureData2022.csv',index_col = 0)\n",
    "\n",
    "# HumidityData2022 = pd.read_csv(DataPath + '/DataCSV/HumidityData2022.csv',index_col = 0)\n",
    "\n",
    "# RainData2022 = pd.read_csv(DataPath + '/DataCSV/RainData2022.csv',index_col = 0)\n"
   ]
  },
  {
   "cell_type": "code",
   "execution_count": 7,
   "metadata": {},
   "outputs": [],
   "source": [
    "# # Averaging meteo data over chosen month and pooling all variables in one dataframe\n",
    "\n",
    "dfs = [SunshineData2022,TemperatureData2022,HumidityData2022,RainData2022]\n",
    "AllVars = [['GLOT'],['TM','TAMPLIM'],['UMM'],['RR','RRAB']]\n",
    "monthlist = [1,2,3,4] # 1 - 12 = january - december\n",
    "\n",
    "WeatherData2022 = MonthAvg(dfs,AllVars,monthlist)\n",
    "\n",
    "WeatherData2022['Latitude (km)'] = WeatherData2022['LATITUDE'].apply(lambda x : (x+21.1)*111.139)\n",
    "WeatherData2022['Longitude (km)'] = WeatherData2022['LONGITUDE'].apply(lambda x : (x-55.48)*111.139)\n",
    "WeatherData2022['Altitude (km)'] = WeatherData2022['ALTITUDE'].apply(lambda x : x/1000)\n",
    "\n",
    "WeatherData2022.to_csv(DataPath + '/DataCSV/WeatherData2022.csv', index = False)"
   ]
  },
  {
   "cell_type": "markdown",
   "metadata": {},
   "source": [
    "##  Run analysis"
   ]
  },
  {
   "cell_type": "markdown",
   "metadata": {},
   "source": [
    "### Load data"
   ]
  },
  {
   "cell_type": "code",
   "execution_count": 8,
   "metadata": {},
   "outputs": [],
   "source": [
    "WeatherData2022 = pd.read_csv(DataPath + '/DataCSV/WeatherData2022.csv', index_col = 'STATION')\n",
    "\n",
    "FullPlantData2022 = pd.read_csv(DataPath + '/DataCSV/FullPlantData2022.csv', index_col = 'Station')\n"
   ]
  },
  {
   "cell_type": "markdown",
   "metadata": {},
   "source": [
    "### Location of weather station and collection sites"
   ]
  },
  {
   "cell_type": "code",
   "execution_count": 9,
   "metadata": {},
   "outputs": [],
   "source": [
    "# # for creating a responsive plot\n",
    "# %matplotlib \n",
    "# ax = plt.figure(figsize=(5,5),dpi = 200).add_subplot(projection='3d')\n",
    "\n",
    "# ax.scatter(WeatherData2022['Longitude (m)']/1000,WeatherData2022['Latitude (m)']/1000,WeatherData2022['ALTITUDE']/1000,label = 'Weather station')\n",
    "# ax.scatter(FullPlantData2022['Longitude (m)']/1000,FullPlantData2022['Latitude (m)']/1000,FullPlantData2022['Altitude (m)']/1000, label = 'Collection site')\n",
    "\n",
    "# ax.set_title('(0,0) -> Piton des neiges')\n",
    "# ax.set_xlabel('Longitude (km)')\n",
    "# ax.set_xlim([-30,42])\n",
    "# ax.set_ylabel('Latitude (km)')\n",
    "# ax.set_ylim([-35,30])\n",
    "# ax.set_zlabel('Altitude (km)')\n",
    "# ax.set_zlim([0,6])\n",
    "\n",
    "# ax.legend()"
   ]
  },
  {
   "cell_type": "markdown",
   "metadata": {},
   "source": [
    "### Correlations inside plant dataset"
   ]
  },
  {
   "cell_type": "code",
   "execution_count": 10,
   "metadata": {
    "scrolled": false
   },
   "outputs": [],
   "source": [
    "# %matplotlib inline\n",
    "\n",
    "# sf.Corr([FullPlantData2022],['Globosa2022'],columns = ['Latitude','Longitude',\n",
    "#             'Altitude (m)','Orientation','Verticalité (°C)','Densité corbeilles (unit/mm²)','Total corbeilles',\n",
    "#             'Largeur thalle (mm)','Aire corbeille (mm²)', 'Y centroïde-Y centre','Grand diamètre ellipse coupe (mm)',\n",
    "#             'Pourcentage de lumière sous la canopée (%)','Distance à la plus proche zone apicale (mm)'],\n",
    "#         columnslabels = ['Lat (°)','Long (°)','Alt (m)','Ori','Vert(°)','Density (u/mm²)','Ncup',\n",
    "#             'ThalWidth (mm)','Cup area (mm²)', 'Incli (Ydiff)','CupDiam (mm)',\n",
    "#             'CanopyLight (%)','DistApi (mm)'],\n",
    "#        DataFilter = 'on',SigLvl = 2, CCLvl = 0.0, fsize = 5, dpival = 200, labelscale = 0.7,annotsize = 6) \n",
    "\n"
   ]
  },
  {
   "cell_type": "markdown",
   "metadata": {},
   "source": [
    "### Correlation in weather dataset"
   ]
  },
  {
   "cell_type": "code",
   "execution_count": 19,
   "metadata": {},
   "outputs": [
    {
     "ename": "KeyError",
     "evalue": "\"['Altitude (m)'] not in index\"",
     "output_type": "error",
     "traceback": [
      "\u001b[1;31m---------------------------------------------------------------------------\u001b[0m",
      "\u001b[1;31mKeyError\u001b[0m                                  Traceback (most recent call last)",
      "\u001b[1;32m<ipython-input-19-501be912db88>\u001b[0m in \u001b[0;36m<module>\u001b[1;34m\u001b[0m\n\u001b[0;32m      1\u001b[0m \u001b[0mget_ipython\u001b[0m\u001b[1;33m(\u001b[0m\u001b[1;33m)\u001b[0m\u001b[1;33m.\u001b[0m\u001b[0mrun_line_magic\u001b[0m\u001b[1;33m(\u001b[0m\u001b[1;34m'matplotlib'\u001b[0m\u001b[1;33m,\u001b[0m \u001b[1;34m'inline'\u001b[0m\u001b[1;33m)\u001b[0m\u001b[1;33m\u001b[0m\u001b[1;33m\u001b[0m\u001b[0m\n\u001b[0;32m      2\u001b[0m \u001b[1;33m\u001b[0m\u001b[0m\n\u001b[1;32m----> 3\u001b[1;33m sf.Corr([WeatherData2022],['Weather2022_jan-apr'],columns = ['Altitude (m)', 'GLOT_AVG','TM_AVG','TAMPLIM_AVG','UMM_AVG','RR_AVG','RRAB_AVG'],\n\u001b[0m\u001b[0;32m      4\u001b[0m         \u001b[0mcolumnslabels\u001b[0m \u001b[1;33m=\u001b[0m \u001b[1;33m[\u001b[0m\u001b[1;34m'Alt (m)'\u001b[0m\u001b[1;33m,\u001b[0m \u001b[1;34m'AvgLight'\u001b[0m\u001b[1;33m,\u001b[0m\u001b[1;34m'Temp (°C)'\u001b[0m\u001b[1;33m,\u001b[0m\u001b[1;34m'Temp Var (°C)'\u001b[0m\u001b[1;33m,\u001b[0m\u001b[1;34m'Humidity'\u001b[0m\u001b[1;33m,\u001b[0m\u001b[1;34m'Mean rain'\u001b[0m\u001b[1;33m,\u001b[0m\u001b[1;34m'Max rain'\u001b[0m\u001b[1;33m]\u001b[0m\u001b[1;33m,\u001b[0m\u001b[0mcorrmethod\u001b[0m\u001b[1;33m=\u001b[0m\u001b[1;34m'spearman'\u001b[0m\u001b[1;33m,\u001b[0m\u001b[1;33m\u001b[0m\u001b[1;33m\u001b[0m\u001b[0m\n\u001b[0;32m      5\u001b[0m        DataFilter = 'on',SigLvl = 2, CCLvl = 0.4, fsize = 5, dpival = 200, labelscale = 0.9, annotsize = 8) \n",
      "\u001b[1;32m~\\Desktop\\PostDoc\\Code\\LaReunionProject\\Python\\StatsFunctions_LR.py\u001b[0m in \u001b[0;36mCorr\u001b[1;34m(GDs, labels, **kwargs)\u001b[0m\n\u001b[0;32m    110\u001b[0m     \u001b[1;32mfor\u001b[0m \u001b[0mGD\u001b[0m\u001b[1;33m,\u001b[0m\u001b[0mlab\u001b[0m\u001b[1;33m,\u001b[0m\u001b[0mcolo\u001b[0m \u001b[1;32min\u001b[0m \u001b[0mzip\u001b[0m\u001b[1;33m(\u001b[0m\u001b[0mGDs\u001b[0m\u001b[1;33m,\u001b[0m\u001b[0mlabels\u001b[0m\u001b[1;33m,\u001b[0m\u001b[0mcolors\u001b[0m\u001b[1;33m)\u001b[0m \u001b[1;33m:\u001b[0m\u001b[1;33m\u001b[0m\u001b[1;33m\u001b[0m\u001b[0m\n\u001b[0;32m    111\u001b[0m \u001b[1;33m\u001b[0m\u001b[0m\n\u001b[1;32m--> 112\u001b[1;33m         \u001b[0mGDtoCorr\u001b[0m \u001b[1;33m=\u001b[0m \u001b[0mGD\u001b[0m\u001b[1;33m[\u001b[0m\u001b[0mdfcols\u001b[0m\u001b[1;33m]\u001b[0m\u001b[1;33m\u001b[0m\u001b[1;33m\u001b[0m\u001b[0m\n\u001b[0m\u001b[0;32m    113\u001b[0m         \u001b[0mcorrMat\u001b[0m \u001b[1;33m=\u001b[0m \u001b[0mGDtoCorr\u001b[0m\u001b[1;33m.\u001b[0m\u001b[0mcorr\u001b[0m\u001b[1;33m(\u001b[0m\u001b[0mmethod\u001b[0m\u001b[1;33m=\u001b[0m\u001b[0mcorrmethod\u001b[0m\u001b[1;33m)\u001b[0m\u001b[1;33m\u001b[0m\u001b[1;33m\u001b[0m\u001b[0m\n\u001b[0;32m    114\u001b[0m \u001b[1;33m\u001b[0m\u001b[0m\n",
      "\u001b[1;32m~\\anaconda3\\envs\\JupyterVal310122\\lib\\site-packages\\pandas\\core\\frame.py\u001b[0m in \u001b[0;36m__getitem__\u001b[1;34m(self, key)\u001b[0m\n\u001b[0;32m   3028\u001b[0m             \u001b[1;32mif\u001b[0m \u001b[0mis_iterator\u001b[0m\u001b[1;33m(\u001b[0m\u001b[0mkey\u001b[0m\u001b[1;33m)\u001b[0m\u001b[1;33m:\u001b[0m\u001b[1;33m\u001b[0m\u001b[1;33m\u001b[0m\u001b[0m\n\u001b[0;32m   3029\u001b[0m                 \u001b[0mkey\u001b[0m \u001b[1;33m=\u001b[0m \u001b[0mlist\u001b[0m\u001b[1;33m(\u001b[0m\u001b[0mkey\u001b[0m\u001b[1;33m)\u001b[0m\u001b[1;33m\u001b[0m\u001b[1;33m\u001b[0m\u001b[0m\n\u001b[1;32m-> 3030\u001b[1;33m             \u001b[0mindexer\u001b[0m \u001b[1;33m=\u001b[0m \u001b[0mself\u001b[0m\u001b[1;33m.\u001b[0m\u001b[0mloc\u001b[0m\u001b[1;33m.\u001b[0m\u001b[0m_get_listlike_indexer\u001b[0m\u001b[1;33m(\u001b[0m\u001b[0mkey\u001b[0m\u001b[1;33m,\u001b[0m \u001b[0maxis\u001b[0m\u001b[1;33m=\u001b[0m\u001b[1;36m1\u001b[0m\u001b[1;33m,\u001b[0m \u001b[0mraise_missing\u001b[0m\u001b[1;33m=\u001b[0m\u001b[1;32mTrue\u001b[0m\u001b[1;33m)\u001b[0m\u001b[1;33m[\u001b[0m\u001b[1;36m1\u001b[0m\u001b[1;33m]\u001b[0m\u001b[1;33m\u001b[0m\u001b[1;33m\u001b[0m\u001b[0m\n\u001b[0m\u001b[0;32m   3031\u001b[0m \u001b[1;33m\u001b[0m\u001b[0m\n\u001b[0;32m   3032\u001b[0m         \u001b[1;31m# take() does not accept boolean indexers\u001b[0m\u001b[1;33m\u001b[0m\u001b[1;33m\u001b[0m\u001b[1;33m\u001b[0m\u001b[0m\n",
      "\u001b[1;32m~\\anaconda3\\envs\\JupyterVal310122\\lib\\site-packages\\pandas\\core\\indexing.py\u001b[0m in \u001b[0;36m_get_listlike_indexer\u001b[1;34m(self, key, axis, raise_missing)\u001b[0m\n\u001b[0;32m   1264\u001b[0m             \u001b[0mkeyarr\u001b[0m\u001b[1;33m,\u001b[0m \u001b[0mindexer\u001b[0m\u001b[1;33m,\u001b[0m \u001b[0mnew_indexer\u001b[0m \u001b[1;33m=\u001b[0m \u001b[0max\u001b[0m\u001b[1;33m.\u001b[0m\u001b[0m_reindex_non_unique\u001b[0m\u001b[1;33m(\u001b[0m\u001b[0mkeyarr\u001b[0m\u001b[1;33m)\u001b[0m\u001b[1;33m\u001b[0m\u001b[1;33m\u001b[0m\u001b[0m\n\u001b[0;32m   1265\u001b[0m \u001b[1;33m\u001b[0m\u001b[0m\n\u001b[1;32m-> 1266\u001b[1;33m         \u001b[0mself\u001b[0m\u001b[1;33m.\u001b[0m\u001b[0m_validate_read_indexer\u001b[0m\u001b[1;33m(\u001b[0m\u001b[0mkeyarr\u001b[0m\u001b[1;33m,\u001b[0m \u001b[0mindexer\u001b[0m\u001b[1;33m,\u001b[0m \u001b[0maxis\u001b[0m\u001b[1;33m,\u001b[0m \u001b[0mraise_missing\u001b[0m\u001b[1;33m=\u001b[0m\u001b[0mraise_missing\u001b[0m\u001b[1;33m)\u001b[0m\u001b[1;33m\u001b[0m\u001b[1;33m\u001b[0m\u001b[0m\n\u001b[0m\u001b[0;32m   1267\u001b[0m         \u001b[1;32mreturn\u001b[0m \u001b[0mkeyarr\u001b[0m\u001b[1;33m,\u001b[0m \u001b[0mindexer\u001b[0m\u001b[1;33m\u001b[0m\u001b[1;33m\u001b[0m\u001b[0m\n\u001b[0;32m   1268\u001b[0m \u001b[1;33m\u001b[0m\u001b[0m\n",
      "\u001b[1;32m~\\anaconda3\\envs\\JupyterVal310122\\lib\\site-packages\\pandas\\core\\indexing.py\u001b[0m in \u001b[0;36m_validate_read_indexer\u001b[1;34m(self, key, indexer, axis, raise_missing)\u001b[0m\n\u001b[0;32m   1314\u001b[0m             \u001b[1;32mif\u001b[0m \u001b[0mraise_missing\u001b[0m\u001b[1;33m:\u001b[0m\u001b[1;33m\u001b[0m\u001b[1;33m\u001b[0m\u001b[0m\n\u001b[0;32m   1315\u001b[0m                 \u001b[0mnot_found\u001b[0m \u001b[1;33m=\u001b[0m \u001b[0mlist\u001b[0m\u001b[1;33m(\u001b[0m\u001b[0mset\u001b[0m\u001b[1;33m(\u001b[0m\u001b[0mkey\u001b[0m\u001b[1;33m)\u001b[0m \u001b[1;33m-\u001b[0m \u001b[0mset\u001b[0m\u001b[1;33m(\u001b[0m\u001b[0max\u001b[0m\u001b[1;33m)\u001b[0m\u001b[1;33m)\u001b[0m\u001b[1;33m\u001b[0m\u001b[1;33m\u001b[0m\u001b[0m\n\u001b[1;32m-> 1316\u001b[1;33m                 \u001b[1;32mraise\u001b[0m \u001b[0mKeyError\u001b[0m\u001b[1;33m(\u001b[0m\u001b[1;34mf\"{not_found} not in index\"\u001b[0m\u001b[1;33m)\u001b[0m\u001b[1;33m\u001b[0m\u001b[1;33m\u001b[0m\u001b[0m\n\u001b[0m\u001b[0;32m   1317\u001b[0m \u001b[1;33m\u001b[0m\u001b[0m\n\u001b[0;32m   1318\u001b[0m             \u001b[0mnot_found\u001b[0m \u001b[1;33m=\u001b[0m \u001b[0mkey\u001b[0m\u001b[1;33m[\u001b[0m\u001b[0mmissing_mask\u001b[0m\u001b[1;33m]\u001b[0m\u001b[1;33m\u001b[0m\u001b[1;33m\u001b[0m\u001b[0m\n",
      "\u001b[1;31mKeyError\u001b[0m: \"['Altitude (m)'] not in index\""
     ]
    }
   ],
   "source": [
    "%matplotlib inline\n",
    "\n",
    "sf.Corr([WeatherData2022],['Weather2022_jan-apr'],columns = ['Altitude (m)', 'GLOT_AVG','TM_AVG','TAMPLIM_AVG','UMM_AVG','RR_AVG','RRAB_AVG'],\n",
    "        columnslabels = ['Alt (m)', 'AvgLight','Temp (°C)','Temp Var (°C)','Humidity','Mean rain','Max rain'],corrmethod='spearman',\n",
    "       DataFilter = 'on',SigLvl = 2, CCLvl = 0.4, fsize = 5, dpival = 200, labelscale = 0.9, annotsize = 8) "
   ]
  },
  {
   "cell_type": "code",
   "execution_count": null,
   "metadata": {},
   "outputs": [],
   "source": []
  },
  {
   "cell_type": "markdown",
   "metadata": {},
   "source": [
    "## Test Zone"
   ]
  },
  {
   "cell_type": "code",
   "execution_count": null,
   "metadata": {},
   "outputs": [],
   "source": []
  },
  {
   "cell_type": "code",
   "execution_count": 12,
   "metadata": {},
   "outputs": [
    {
     "data": {
      "text/html": [
       "<div>\n",
       "<style scoped>\n",
       "    .dataframe tbody tr th:only-of-type {\n",
       "        vertical-align: middle;\n",
       "    }\n",
       "\n",
       "    .dataframe tbody tr th {\n",
       "        vertical-align: top;\n",
       "    }\n",
       "\n",
       "    .dataframe thead th {\n",
       "        text-align: right;\n",
       "    }\n",
       "</style>\n",
       "<table border=\"1\" class=\"dataframe\">\n",
       "  <thead>\n",
       "    <tr style=\"text-align: right;\">\n",
       "      <th></th>\n",
       "      <th>ALTITUDE</th>\n",
       "      <th>LATITUDE</th>\n",
       "      <th>LONGITUDE</th>\n",
       "      <th>M_List</th>\n",
       "      <th>RR_AVG</th>\n",
       "      <th>RRAB_AVG</th>\n",
       "      <th>UMM_AVG</th>\n",
       "      <th>TM_AVG</th>\n",
       "      <th>TAMPLIM_AVG</th>\n",
       "      <th>GLOT_AVG</th>\n",
       "      <th>Latitude (m)</th>\n",
       "      <th>Longitude (m)</th>\n",
       "    </tr>\n",
       "    <tr>\n",
       "      <th>STATION</th>\n",
       "      <th></th>\n",
       "      <th></th>\n",
       "      <th></th>\n",
       "      <th></th>\n",
       "      <th></th>\n",
       "      <th></th>\n",
       "      <th></th>\n",
       "      <th></th>\n",
       "      <th></th>\n",
       "      <th></th>\n",
       "      <th></th>\n",
       "      <th></th>\n",
       "    </tr>\n",
       "  </thead>\n",
       "  <tbody>\n",
       "    <tr>\n",
       "      <th>97401520</th>\n",
       "      <td>908</td>\n",
       "      <td>-21.212</td>\n",
       "      <td>55.361</td>\n",
       "      <td>[1, 2, 3, 4]</td>\n",
       "      <td>306.225</td>\n",
       "      <td>94.425</td>\n",
       "      <td>NaN</td>\n",
       "      <td>20.575</td>\n",
       "      <td>6.575</td>\n",
       "      <td>NaN</td>\n",
       "      <td>-12447.568</td>\n",
       "      <td>-13225.541</td>\n",
       "    </tr>\n",
       "    <tr>\n",
       "      <th>97401540</th>\n",
       "      <td>180</td>\n",
       "      <td>-21.240</td>\n",
       "      <td>55.328</td>\n",
       "      <td>[1, 2, 3, 4]</td>\n",
       "      <td>112.125</td>\n",
       "      <td>46.625</td>\n",
       "      <td>NaN</td>\n",
       "      <td>NaN</td>\n",
       "      <td>NaN</td>\n",
       "      <td>52073.75</td>\n",
       "      <td>-15559.460</td>\n",
       "      <td>-16893.128</td>\n",
       "    </tr>\n",
       "    <tr>\n",
       "      <th>97402240</th>\n",
       "      <td>480</td>\n",
       "      <td>-21.005</td>\n",
       "      <td>55.623</td>\n",
       "      <td>[1, 2, 3, 4]</td>\n",
       "      <td>825.050</td>\n",
       "      <td>184.925</td>\n",
       "      <td>89.5</td>\n",
       "      <td>23.825</td>\n",
       "      <td>5.950</td>\n",
       "      <td>38487.50</td>\n",
       "      <td>10558.205</td>\n",
       "      <td>15892.877</td>\n",
       "    </tr>\n",
       "    <tr>\n",
       "      <th>97403410</th>\n",
       "      <td>1808</td>\n",
       "      <td>-21.189</td>\n",
       "      <td>55.482</td>\n",
       "      <td>[1, 2, 3, 4]</td>\n",
       "      <td>465.450</td>\n",
       "      <td>148.725</td>\n",
       "      <td>NaN</td>\n",
       "      <td>16.975</td>\n",
       "      <td>8.275</td>\n",
       "      <td>NaN</td>\n",
       "      <td>-9891.371</td>\n",
       "      <td>222.278</td>\n",
       "    </tr>\n",
       "    <tr>\n",
       "      <th>97403435</th>\n",
       "      <td>510</td>\n",
       "      <td>-21.228</td>\n",
       "      <td>55.475</td>\n",
       "      <td>[1, 2, 3, 4]</td>\n",
       "      <td>341.600</td>\n",
       "      <td>123.600</td>\n",
       "      <td>NaN</td>\n",
       "      <td>23.275</td>\n",
       "      <td>8.975</td>\n",
       "      <td>NaN</td>\n",
       "      <td>-14225.792</td>\n",
       "      <td>-555.695</td>\n",
       "    </tr>\n",
       "    <tr>\n",
       "      <th>...</th>\n",
       "      <td>...</td>\n",
       "      <td>...</td>\n",
       "      <td>...</td>\n",
       "      <td>...</td>\n",
       "      <td>...</td>\n",
       "      <td>...</td>\n",
       "      <td>...</td>\n",
       "      <td>...</td>\n",
       "      <td>...</td>\n",
       "      <td>...</td>\n",
       "      <td>...</td>\n",
       "      <td>...</td>\n",
       "    </tr>\n",
       "    <tr>\n",
       "      <th>97424450</th>\n",
       "      <td>1067</td>\n",
       "      <td>-21.154</td>\n",
       "      <td>55.438</td>\n",
       "      <td>[1, 2, 3, 4]</td>\n",
       "      <td>111.450</td>\n",
       "      <td>53.475</td>\n",
       "      <td>NaN</td>\n",
       "      <td>NaN</td>\n",
       "      <td>NaN</td>\n",
       "      <td>NaN</td>\n",
       "      <td>-6001.506</td>\n",
       "      <td>-4667.838</td>\n",
       "    </tr>\n",
       "    <tr>\n",
       "      <th>97424460</th>\n",
       "      <td>830</td>\n",
       "      <td>-21.169</td>\n",
       "      <td>55.474</td>\n",
       "      <td>[1, 2, 3, 4]</td>\n",
       "      <td>125.025</td>\n",
       "      <td>51.600</td>\n",
       "      <td>NaN</td>\n",
       "      <td>NaN</td>\n",
       "      <td>NaN</td>\n",
       "      <td>NaN</td>\n",
       "      <td>-7668.591</td>\n",
       "      <td>-666.834</td>\n",
       "    </tr>\n",
       "    <tr>\n",
       "      <th>97412801</th>\n",
       "      <td>13</td>\n",
       "      <td>-21.385</td>\n",
       "      <td>55.610</td>\n",
       "      <td>[1, 2, 3, 4]</td>\n",
       "      <td>NaN</td>\n",
       "      <td>NaN</td>\n",
       "      <td>NaN</td>\n",
       "      <td>NaN</td>\n",
       "      <td>NaN</td>\n",
       "      <td>39109.25</td>\n",
       "      <td>-31674.615</td>\n",
       "      <td>14448.070</td>\n",
       "    </tr>\n",
       "    <tr>\n",
       "      <th>97415591</th>\n",
       "      <td>595</td>\n",
       "      <td>-20.998</td>\n",
       "      <td>55.341</td>\n",
       "      <td>[1, 2, 3, 4]</td>\n",
       "      <td>NaN</td>\n",
       "      <td>NaN</td>\n",
       "      <td>NaN</td>\n",
       "      <td>NaN</td>\n",
       "      <td>NaN</td>\n",
       "      <td>19379.00</td>\n",
       "      <td>11336.178</td>\n",
       "      <td>-15448.321</td>\n",
       "    </tr>\n",
       "    <tr>\n",
       "      <th>97415592</th>\n",
       "      <td>746</td>\n",
       "      <td>-21.069</td>\n",
       "      <td>55.300</td>\n",
       "      <td>[1, 2, 3, 4]</td>\n",
       "      <td>NaN</td>\n",
       "      <td>NaN</td>\n",
       "      <td>NaN</td>\n",
       "      <td>NaN</td>\n",
       "      <td>NaN</td>\n",
       "      <td>31941.00</td>\n",
       "      <td>3445.309</td>\n",
       "      <td>-20005.020</td>\n",
       "    </tr>\n",
       "  </tbody>\n",
       "</table>\n",
       "<p>88 rows × 12 columns</p>\n",
       "</div>"
      ],
      "text/plain": [
       "          ALTITUDE  LATITUDE  LONGITUDE        M_List   RR_AVG  RRAB_AVG  \\\n",
       "STATION                                                                    \n",
       "97401520       908   -21.212     55.361  [1, 2, 3, 4]  306.225    94.425   \n",
       "97401540       180   -21.240     55.328  [1, 2, 3, 4]  112.125    46.625   \n",
       "97402240       480   -21.005     55.623  [1, 2, 3, 4]  825.050   184.925   \n",
       "97403410      1808   -21.189     55.482  [1, 2, 3, 4]  465.450   148.725   \n",
       "97403435       510   -21.228     55.475  [1, 2, 3, 4]  341.600   123.600   \n",
       "...            ...       ...        ...           ...      ...       ...   \n",
       "97424450      1067   -21.154     55.438  [1, 2, 3, 4]  111.450    53.475   \n",
       "97424460       830   -21.169     55.474  [1, 2, 3, 4]  125.025    51.600   \n",
       "97412801        13   -21.385     55.610  [1, 2, 3, 4]      NaN       NaN   \n",
       "97415591       595   -20.998     55.341  [1, 2, 3, 4]      NaN       NaN   \n",
       "97415592       746   -21.069     55.300  [1, 2, 3, 4]      NaN       NaN   \n",
       "\n",
       "          UMM_AVG  TM_AVG  TAMPLIM_AVG  GLOT_AVG  Latitude (m)  Longitude (m)  \n",
       "STATION                                                                        \n",
       "97401520      NaN  20.575        6.575       NaN    -12447.568     -13225.541  \n",
       "97401540      NaN     NaN          NaN  52073.75    -15559.460     -16893.128  \n",
       "97402240     89.5  23.825        5.950  38487.50     10558.205      15892.877  \n",
       "97403410      NaN  16.975        8.275       NaN     -9891.371        222.278  \n",
       "97403435      NaN  23.275        8.975       NaN    -14225.792       -555.695  \n",
       "...           ...     ...          ...       ...           ...            ...  \n",
       "97424450      NaN     NaN          NaN       NaN     -6001.506      -4667.838  \n",
       "97424460      NaN     NaN          NaN       NaN     -7668.591       -666.834  \n",
       "97412801      NaN     NaN          NaN  39109.25    -31674.615      14448.070  \n",
       "97415591      NaN     NaN          NaN  19379.00     11336.178     -15448.321  \n",
       "97415592      NaN     NaN          NaN  31941.00      3445.309     -20005.020  \n",
       "\n",
       "[88 rows x 12 columns]"
      ]
     },
     "execution_count": 12,
     "metadata": {},
     "output_type": "execute_result"
    }
   ],
   "source": [
    "WeatherData2022"
   ]
  },
  {
   "cell_type": "code",
   "execution_count": null,
   "metadata": {},
   "outputs": [],
   "source": []
  }
 ],
 "metadata": {
  "kernelspec": {
   "display_name": "Python 3",
   "language": "python",
   "name": "python3"
  },
  "language_info": {
   "codemirror_mode": {
    "name": "ipython",
    "version": 3
   },
   "file_extension": ".py",
   "mimetype": "text/x-python",
   "name": "python",
   "nbconvert_exporter": "python",
   "pygments_lexer": "ipython3",
   "version": "3.8.5"
  },
  "toc": {
   "base_numbering": 1,
   "nav_menu": {},
   "number_sections": true,
   "sideBar": true,
   "skip_h1_title": true,
   "title_cell": "Table of Contents",
   "title_sidebar": "Contents",
   "toc_cell": false,
   "toc_position": {
    "height": "719px",
    "left": "140px",
    "top": "175px",
    "width": "294px"
   },
   "toc_section_display": true,
   "toc_window_display": true
  }
 },
 "nbformat": 4,
 "nbformat_minor": 4
}
